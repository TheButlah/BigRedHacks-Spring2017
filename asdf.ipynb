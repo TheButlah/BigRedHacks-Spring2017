{
 "cells": [
  {
   "cell_type": "code",
   "execution_count": 2,
   "metadata": {
    "collapsed": false
   },
   "outputs": [],
   "source": [
    "import numpy as np\n",
    "import pandas as pd\n",
    "import matplotlib.pyplot as plt\n",
    "import os\n",
    "import glob\n",
    "from pathlib import Path\n",
    "from sklearn import cluster\n",
    "from sklearn.preprocessing import StandardScaler\n",
    "from skimage import io, color"
   ]
  },
  {
   "cell_type": "code",
   "execution_count": 7,
   "metadata": {
    "collapsed": false
   },
   "outputs": [
    {
     "name": "stdout",
     "output_type": "stream",
     "text": [
      "Preprocessing Flattened Images...\n"
     ]
    },
    {
     "name": "stdout",
     "output_type": "stream",
     "text": [
      "Finished Flattening Images, working on extra images\n"
     ]
    }
   ],
   "source": [
    "FLATTENED_FILEPATH = \"processed/flattened.csv\"\n",
    "PREDICTIONS_FILEPATH = \"results/predictions.csv\"\n",
    "\n",
    "filenames = glob.glob(\"imgs/out*.png\")\n",
    "num_imgs = len(filenames)\n",
    "\n",
    "processed_file = Path(FLATTENED_FILEPATH)\n",
    "images = np.empty([num_imgs, 512, 512, 3])\n",
    "if processed_file.is_file():\n",
    "    print(\"Loading Flattened Images...\")\n",
    "    flattened_pd = pd.read_csv(processed_file, index_col=['frame', 'x', 'y'], skipinitialspace=True)\n",
    "    flattened = flattened_pd.reset_index().values\n",
    "    print(\"Finished Loading Flattened Images!\")\n",
    "else:\n",
    "    print(\"Preprocessing Flattened Images...\")   \n",
    "    for i in range(num_imgs):\n",
    "        images[i] = color.rgb2lab(io.imread(filenames[i]))\n",
    "    flattened = np.empty([(num_imgs+4)*512*512, 6], dtype=np.int)\n",
    "    for i in range(num_imgs):\n",
    "        for x in range(512):\n",
    "            for y in range(512):\n",
    "                index = y + 512*(x + 512*i)\n",
    "                '''if i >= num_imgs and i<num_imgs+2:\n",
    "                    flattened[index] = np.concatenate([np.array([index, x, y], dtype=np.int), [97.14, -21.56, 94.48]])\n",
    "                elif i >= (num_imgs + 2):\n",
    "                    flattened[index] = np.concatenate([np.array([index, x, y], dtype=np.int), [67.29, 45.36, 47.49]])\n",
    "                else:'''\n",
    "                flattened[index] = np.concatenate([np.array([index, x, y], dtype=np.int), images[i, x, y]])\n",
    "    print(\"Finished Flattening Images, working on extra images\")\n",
    "    for i in range(num_imgs, num_imgs + 2):\n",
    "        for x in range(512):\n",
    "            for y in range(512):\n",
    "                index = y + 512*(x + 512*i)\n",
    "                flattened[index] = np.concatenate([np.array([i, x, y], dtype=np.int), [97.14, -21.56, 94.48]])\n",
    "    for i in range(num_imgs+2, num_imgs + 4):\n",
    "        for x in range(512):\n",
    "            for y in range(512):\n",
    "                index = y + 512*(x + 512*i)\n",
    "                flattened[index] = np.concatenate([np.array([i, x, y], dtype=np.int), [67.29, 45.36, 47.49]])\n",
    "    os.makedirs(os.path.dirname(FLATTENED_FILEPATH), exist_ok=True)\n",
    "    flattened_pd = pd.DataFrame(flattened, columns=['frame', 'x', 'y', 'red', 'green', 'blue'])\n",
    "    flattened_pd = flattened_pd.set_index(['frame', 'x', 'y'], drop=True)\n",
    "    flattened_pd.to_csv(FLATTENED_FILEPATH)\n",
    "    print(\"Finished Preprocessing Flattened Images!\")\n",
    "    \n",
    "flattened = flattened[:, 3:].astype(np.float)\n",
    "print(flattened)"
   ]
  },
  {
   "cell_type": "code",
   "execution_count": 6,
   "metadata": {
    "collapsed": true
   },
   "outputs": [
    {
     "name": "stdout",
     "output_type": "stream",
     "text": [
      "Selected colors:\n[[ 58.95251386 -22.34286911  -3.71547085]\n [ 67.08560844  44.804845    46.85142659]\n [ 63.82347732 -24.19768058  23.49752395]\n [ 97.         -21.          94.        ]\n [ 47.7477018  -17.30111488  -7.68350031]\n [ 70.67724193 -26.46348149  -4.78943882]\n [ 30.56908986  -6.9531388   -3.58867811]\n [ 51.56158711  17.42236862  20.7803117 ]]\n"
     ]
    },
    {
     "name": "stdout",
     "output_type": "stream",
     "text": [
      "Finished predictions!\n"
     ]
    },
    {
     "name": "stderr",
     "output_type": "stream",
     "text": [
      "/usr/local/lib/python3.5/dist-packages/skimage/util/dtype.py:110: UserWarning: Possible precision loss when converting from float64 to uint8\n  \"%s to %s\" % (dtypeobj_in, dtypeobj))\n"
     ]
    },
    {
     "name": "stdout",
     "output_type": "stream",
     "text": [
      "Finished!\n"
     ]
    },
    {
     "name": "stdout",
     "output_type": "stream",
     "text": [
      "                      red      green      blue\nframe x   y                                   \n0.0   0.0 0.0   30.569090  -6.953139 -3.588678\n          1.0   30.569090  -6.953139 -3.588678\n          2.0   30.569090  -6.953139 -3.588678\n          3.0   30.569090  -6.953139 -3.588678\n          4.0   30.569090  -6.953139 -3.588678\n          5.0   30.569090  -6.953139 -3.588678\n          6.0   30.569090  -6.953139 -3.588678\n          7.0   30.569090  -6.953139 -3.588678\n          8.0   30.569090  -6.953139 -3.588678\n          9.0   30.569090  -6.953139 -3.588678\n          10.0  30.569090  -6.953139 -3.588678\n          11.0  30.569090  -6.953139 -3.588678\n          12.0  30.569090  -6.953139 -3.588678\n          13.0  30.569090  -6.953139 -3.588678\n          14.0  30.569090  -6.953139 -3.588678\n          15.0  47.747702 -17.301115 -7.683500\n          16.0  47.747702 -17.301115 -7.683500\n          17.0  47.747702 -17.301115 -7.683500\n          18.0  47.747702 -17.301115 -7.683500\n          19.0  47.747702 -17.301115 -7.683500\n          20.0  47.747702 -17.301115 -7.683500\n          21.0  47.747702 -17.301115 -7.683500\n          22.0  47.747702 -17.301115 -7.683500\n          23.0  47.747702 -17.301115 -7.683500\n          24.0  47.747702 -17.301115 -7.683500\n          25.0  47.747702 -17.301115 -7.683500\n          26.0  47.747702 -17.301115 -7.683500\n          27.0  47.747702 -17.301115 -7.683500\n          28.0  47.747702 -17.301115 -7.683500\n          29.0  47.747702 -17.301115 -7.683500\n...                   ...        ...       ...\n          0.0    0.000000   0.000000  0.000000\n          0.0    0.000000   0.000000  0.000000\n          0.0    0.000000   0.000000  0.000000\n          0.0    0.000000   0.000000  0.000000\n          0.0    0.000000   0.000000  0.000000\n          0.0    0.000000   0.000000  0.000000\n          0.0    0.000000   0.000000  0.000000\n          0.0    0.000000   0.000000  0.000000\n          0.0    0.000000   0.000000  0.000000\n          0.0    0.000000   0.000000  0.000000\n          0.0    0.000000   0.000000  0.000000\n          0.0    0.000000   0.000000  0.000000\n          0.0    0.000000   0.000000  0.000000\n          0.0    0.000000   0.000000  0.000000\n          0.0    0.000000   0.000000  0.000000\n          0.0    0.000000   0.000000  0.000000\n          0.0    0.000000   0.000000  0.000000\n          0.0    0.000000   0.000000  0.000000\n          0.0    0.000000   0.000000  0.000000\n          0.0    0.000000   0.000000  0.000000\n          0.0    0.000000   0.000000  0.000000\n          0.0    0.000000   0.000000  0.000000\n          0.0    0.000000   0.000000  0.000000\n          0.0    0.000000   0.000000  0.000000\n          0.0    0.000000   0.000000  0.000000\n          0.0    0.000000   0.000000  0.000000\n          0.0    0.000000   0.000000  0.000000\n          0.0    0.000000   0.000000  0.000000\n          0.0    0.000000   0.000000  0.000000\n          0.0    0.000000   0.000000  0.000000\n\n[8388608 rows x 3 columns]\n"
     ]
    }
   ],
   "source": [
    "#scaler = StandardScaler()\n",
    "#flattened = scaler.fit_transform(flattened)\n",
    "clusterer = cluster.KMeans(8)\n",
    "\n",
    "clusterer.fit(flattened)\n",
    "\n",
    "colors = clusterer.cluster_centers_\n",
    "#colors = scaler.inverse_transform(clusterer.cluster_centers_)\n",
    "\n",
    "print(\"Selected colors:\")\n",
    "print(colors)\n",
    "\n",
    "results = clusterer.predict(flattened)\n",
    "\n",
    "print(\"Finished predictions!\")\n",
    "predictions = np.empty([flattened.shape[0], 6])\n",
    "for i in range(num_imgs):\n",
    "    for x in range(512):\n",
    "        for y in range(512):\n",
    "            index = y + 512*(x + 512*i)\n",
    "            result = results[index]\n",
    "            images[i, x, y] = colors[result]\n",
    "            predictions[index] = np.concatenate([np.array([i, x, y], dtype=np.int), colors[result]])\n",
    "    io.imsave((\"results/res%d.png\" % i), color.lab2rgb(images[i]))\n",
    "print(\"Finished!\")\n",
    "\n",
    "os.makedirs(os.path.dirname(PREDICTIONS_FILEPATH), exist_ok=True)\n",
    "predicted_pd = pd.DataFrame(predictions, columns=['frame', 'x', 'y', 'red', 'green', 'blue'])\n",
    "predicted_pd = predicted_pd.set_index(['frame', 'x', 'y'], drop=True)\n",
    "predicted_pd.to_csv(PREDICTIONS_FILEPATH)\n",
    "print(predicted_pd)"
   ]
  },
  {
   "cell_type": "code",
   "execution_count": null,
   "metadata": {},
   "outputs": [],
   "source": [
    ""
   ]
  }
 ],
 "metadata": {
  "kernelspec": {
   "display_name": "Python 2",
   "language": "python",
   "name": "python2"
  },
  "language_info": {
   "codemirror_mode": {
    "name": "ipython",
    "version": 2.0
   },
   "file_extension": ".py",
   "mimetype": "text/x-python",
   "name": "python",
   "nbconvert_exporter": "python",
   "pygments_lexer": "ipython2",
   "version": "2.7.6"
  }
 },
 "nbformat": 4,
 "nbformat_minor": 0
}