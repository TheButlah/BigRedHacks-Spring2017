{
 "cells": [
  {
   "cell_type": "code",
   "execution_count": 18,
   "metadata": {},
   "outputs": [],
   "source": [
    ""
   ]
  },
  {
   "cell_type": "code",
   "execution_count": 11,
   "metadata": {
    "collapsed": false
   },
   "outputs": [
    {
     "name": "stdout",
     "output_type": "stream",
     "text": [
      "Loading Flattened Image...\n"
     ]
    },
    {
     "name": "stdout",
     "output_type": "stream",
     "text": [
      "Finished Loading Flattened Image!\n"
     ]
    }
   ],
   "source": [
    "import numpy as np\n",
    "import pandas as pd\n",
    "import matplotlib.pyplot as plt\n",
    "import os\n",
    "from pathlib import Path\n",
    "from scipy import misc\n",
    "from sklearn import cluster\n",
    "from sklearn.model_selection import train_test_split\n",
    "\n",
    "FLATTENED_FILEPATH = \"processed/flattened.csv\"\n",
    "\n",
    "processed_file = Path(FLATTENED_FILEPATH)\n",
    "if processed_file.is_file():\n",
    "    print(\"Loading Flattened Image...\")\n",
    "    flattened = np.loadtxt(FLATTENED_FILEPATH, delimiter=\",\")\n",
    "    print(\"Finished Loading Flattened Image!\")\n",
    "else:\n",
    "    print(\"Preprocessing Flattened Image...\")\n",
    "    \n",
    "    images = np.empty([20, 512, 512, 3])\n",
    "    %matplotlib inline\n",
    "    \n",
    "    for i in range(20):\n",
    "        images[i] = misc.imread(('imgs/out%d.png') % (i+1))\n",
    "        #images[i] = np.ones(images.shape[1:]) - images[i]\n",
    "    flattened = np.empty([20*512*512, 3])\n",
    "    for i in range(20):\n",
    "        for x in range(512):\n",
    "            for y in range(512):\n",
    "                index = y + 512*(x + 512*i)\n",
    "                flattened[index] = images[i, x, y]\n",
    "    os.makedirs(os.path.dirname(FLATTENED_FILEPATH), exist_ok=True)\n",
    "    np.savetxt(FLATTENED_FILEPATH, flattened, delimiter=\",\")\n",
    "    print(\"Finished Preprocessing Flattened Image!\")"
   ]
  },
  {
   "cell_type": "code",
   "execution_count": 7,
   "metadata": {
    "collapsed": true
   },
   "outputs": [
    {
     "name": "stdout",
     "output_type": "stream",
     "text": [
      "Selected colors:\n[[  75.73094772  134.70560519  133.13716105]\n [  95.71444988  165.10463133  157.43248274]\n [  62.13083329   88.8253934    89.66990263]]\n"
     ]
    }
   ],
   "source": [
    "dbscan = cluster.KMeans(3)\n",
    "dbscan.fit(flattened)\n",
    "\n",
    "colors = dbscan.cluster_centers_\n",
    "\n",
    "print(\"Selected colors:\")\n",
    "print(colors)\n",
    "\n",
    "for i in range(20):\n",
    "    for x in range(512):\n",
    "        for y in range(512):\n",
    "            index = y + 512*(x + 512*i)\n",
    "            result = dbscan.predict([flattened[index]])\n",
    "            images[i, x, y] = colors[result]\n",
    "    misc.imsave((\"results/res%d.png\" % i), images[i])"
   ]
  }
 ],
 "metadata": {
  "kernelspec": {
   "display_name": "Python 2",
   "language": "python",
   "name": "python2"
  },
  "language_info": {
   "codemirror_mode": {
    "name": "ipython",
    "version": 2.0
   },
   "file_extension": ".py",
   "mimetype": "text/x-python",
   "name": "python",
   "nbconvert_exporter": "python",
   "pygments_lexer": "ipython2",
   "version": "2.7.6"
  }
 },
 "nbformat": 4,
 "nbformat_minor": 0
}